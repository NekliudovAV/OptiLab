{
 "cells": [
  {
   "cell_type": "markdown",
   "metadata": {},
   "source": [
    "### Тестирование и описание конструкций LinearParametrization\n",
    "В Этом файле приведены примеры основных блоков линеаризации:\n",
    "1. Блок работы с характеристиками CH\n",
    "2. Блок работы с характеристиками PWL\n",
    "\n",
    "Чуть позже будет подготовлен пример с характеристиками CH_N (нейронные сети)"
   ]
  },
  {
   "cell_type": "code",
   "execution_count": 20,
   "metadata": {},
   "outputs": [],
   "source": [
    "# Импорт модулей и подключение библиотек\n",
    "import pandas as pd         # Панадас\n",
    "import numpy as np          \n",
    "from pyomo.environ import * # Библитека оптимизации\n",
    "from LinearParametrization import *  # Модуль параметризации"
   ]
  },
  {
   "cell_type": "markdown",
   "metadata": {},
   "source": [
    "# Считывание данных, на основании которых выполняется параметризация"
   ]
  },
  {
   "cell_type": "code",
   "execution_count": 25,
   "metadata": {},
   "outputs": [
    {
     "data": {
      "text/html": [
       "<div>\n",
       "<style scoped>\n",
       "    .dataframe tbody tr th:only-of-type {\n",
       "        vertical-align: middle;\n",
       "    }\n",
       "\n",
       "    .dataframe tbody tr th {\n",
       "        vertical-align: top;\n",
       "    }\n",
       "\n",
       "    .dataframe thead th {\n",
       "        text-align: right;\n",
       "    }\n",
       "</style>\n",
       "<table border=\"1\" class=\"dataframe\">\n",
       "  <thead>\n",
       "    <tr style=\"text-align: right;\">\n",
       "      <th></th>\n",
       "      <th>Qп</th>\n",
       "      <th>Qт</th>\n",
       "      <th>N</th>\n",
       "      <th>Q0</th>\n",
       "    </tr>\n",
       "  </thead>\n",
       "  <tbody>\n",
       "    <tr>\n",
       "      <td>0</td>\n",
       "      <td>0</td>\n",
       "      <td>0</td>\n",
       "      <td>23.828635</td>\n",
       "      <td>67.105800</td>\n",
       "    </tr>\n",
       "    <tr>\n",
       "      <td>1</td>\n",
       "      <td>0</td>\n",
       "      <td>0</td>\n",
       "      <td>27.147921</td>\n",
       "      <td>73.242768</td>\n",
       "    </tr>\n",
       "    <tr>\n",
       "      <td>2</td>\n",
       "      <td>0</td>\n",
       "      <td>0</td>\n",
       "      <td>30.259031</td>\n",
       "      <td>79.088371</td>\n",
       "    </tr>\n",
       "    <tr>\n",
       "      <td>3</td>\n",
       "      <td>0</td>\n",
       "      <td>0</td>\n",
       "      <td>34.590692</td>\n",
       "      <td>87.168812</td>\n",
       "    </tr>\n",
       "    <tr>\n",
       "      <td>4</td>\n",
       "      <td>0</td>\n",
       "      <td>0</td>\n",
       "      <td>41.663221</td>\n",
       "      <td>100.216463</td>\n",
       "    </tr>\n",
       "    <tr>\n",
       "      <td>...</td>\n",
       "      <td>...</td>\n",
       "      <td>...</td>\n",
       "      <td>...</td>\n",
       "      <td>...</td>\n",
       "    </tr>\n",
       "    <tr>\n",
       "      <td>362</td>\n",
       "      <td>140</td>\n",
       "      <td>10</td>\n",
       "      <td>61.449816</td>\n",
       "      <td>87.312417</td>\n",
       "    </tr>\n",
       "    <tr>\n",
       "      <td>363</td>\n",
       "      <td>140</td>\n",
       "      <td>20</td>\n",
       "      <td>52.599275</td>\n",
       "      <td>63.309000</td>\n",
       "    </tr>\n",
       "    <tr>\n",
       "      <td>364</td>\n",
       "      <td>140</td>\n",
       "      <td>20</td>\n",
       "      <td>54.982477</td>\n",
       "      <td>68.017888</td>\n",
       "    </tr>\n",
       "    <tr>\n",
       "      <td>365</td>\n",
       "      <td>140</td>\n",
       "      <td>20</td>\n",
       "      <td>57.553562</td>\n",
       "      <td>73.094784</td>\n",
       "    </tr>\n",
       "    <tr>\n",
       "      <td>366</td>\n",
       "      <td>140</td>\n",
       "      <td>20</td>\n",
       "      <td>59.530552</td>\n",
       "      <td>77.068838</td>\n",
       "    </tr>\n",
       "  </tbody>\n",
       "</table>\n",
       "<p>367 rows × 4 columns</p>\n",
       "</div>"
      ],
      "text/plain": [
       "      Qп  Qт          N          Q0\n",
       "0      0   0  23.828635   67.105800\n",
       "1      0   0  27.147921   73.242768\n",
       "2      0   0  30.259031   79.088371\n",
       "3      0   0  34.590692   87.168812\n",
       "4      0   0  41.663221  100.216463\n",
       "..   ...  ..        ...         ...\n",
       "362  140  10  61.449816   87.312417\n",
       "363  140  20  52.599275   63.309000\n",
       "364  140  20  54.982477   68.017888\n",
       "365  140  20  57.553562   73.094784\n",
       "366  140  20  59.530552   77.068838\n",
       "\n",
       "[367 rows x 4 columns]"
      ]
     },
     "execution_count": 25,
     "metadata": {},
     "output_type": "execute_result"
    }
   ],
   "source": [
    "df = pd.read_excel('DataMEI.xlsx')\n",
    "df"
   ]
  },
  {
   "cell_type": "markdown",
   "metadata": {},
   "source": [
    "# Тестирование конструкции CH c дополнительными внешними ограничениями"
   ]
  },
  {
   "cell_type": "code",
   "execution_count": 38,
   "metadata": {},
   "outputs": [],
   "source": [
    "# Задаем шкалу времени (24 часа), для которой будут проводиться расчеты\n",
    "m = ConcreteModel()\n",
    "nt=24\n",
    "t = range(0, nt)\n",
    "m.T1 = CH_Block(t, df)"
   ]
  },
  {
   "cell_type": "code",
   "execution_count": 39,
   "metadata": {},
   "outputs": [],
   "source": [
    "# Задаем целевую функцию. Основная задача - максимизировать разницу дохода и расхода\n",
    "Dohod = sum((m.T1.Vars[i,'Q0']) for i in t)\n",
    "m.O1 = Objective(expr=Dohod , sense=maximize)"
   ]
  },
  {
   "cell_type": "markdown",
   "metadata": {},
   "source": [
    "Ограничение именованное. Имя должно соответствовать имени одной из размерностей CH"
   ]
  },
  {
   "cell_type": "code",
   "execution_count": 35,
   "metadata": {},
   "outputs": [
    {
     "name": "stdout",
     "output_type": "stream",
     "text": [
      "['Qп']\n"
     ]
    }
   ],
   "source": [
    "#  Задание внешнего оганичения\n",
    "Qp=df['Qп']\n",
    "m.T1=ext_vars(m.T1,Qп=Qp)"
   ]
  },
  {
   "cell_type": "code",
   "execution_count": 41,
   "metadata": {},
   "outputs": [
    {
     "name": "stdout",
     "output_type": "stream",
     "text": [
      "\n",
      "Problem: \n",
      "- Name: x98\n",
      "  Lower bound: 3807.392219638474\n",
      "  Upper bound: 3807.392219638474\n",
      "  Number of objectives: 1\n",
      "  Number of constraints: 1273\n",
      "  Number of variables: 98\n",
      "  Number of binary variables: 1\n",
      "  Number of integer variables: 1\n",
      "  Number of continuous variables: 97\n",
      "  Number of nonzeros: 4873\n",
      "  Sense: maximize\n",
      "Solver: \n",
      "- Status: ok\n",
      "  Return code: 0\n",
      "  Message: Model was solved to optimality (subject to tolerances), and an optimal solution is available.\n",
      "  Termination condition: optimal\n",
      "  Termination message: Model was solved to optimality (subject to tolerances), and an optimal solution is available.\n",
      "  Wall time: 0.05900001525878906\n",
      "  Error rc: 0\n",
      "  Time: 0.4621927738189697\n",
      "Solution: \n",
      "- number of solutions: 0\n",
      "  number of solutions displayed: 0\n",
      "\n"
     ]
    }
   ],
   "source": [
    "# Используем наиболее быстрый решатель оптимизации Guroby Optimization для расчета нашей оптимизационной модели\n",
    "gurobi = SolverFactory('gurobi')\n",
    "\n",
    "# Смотрим время расчета и статус выполнения расчета модели\n",
    "status = gurobi.solve(m)\n",
    "print(status)"
   ]
  },
  {
   "cell_type": "code",
   "execution_count": 42,
   "metadata": {},
   "outputs": [
    {
     "name": "stdout",
     "output_type": "stream",
     "text": [
      "Vars : Size=96, Index=T1.Vars_index\n",
      "    Key        : Lower : Value              : Upper : Fixed : Stale : Domain\n",
      "      (0, 'N') :  None :  75.03967027081069 :  None : False : False :  Reals\n",
      "     (0, 'Q0') :  None : 158.64134248493644 :  None : False : False :  Reals\n",
      "     (0, 'Qп') :  None : 20.000010451259246 :  None : False : False :  Reals\n",
      "     (0, 'Qт') :  None :             0.0001 :  None : False : False :  Reals\n",
      "      (1, 'N') :  None :  75.03967027081069 :  None : False : False :  Reals\n",
      "     (1, 'Q0') :  None : 158.64134248493644 :  None : False : False :  Reals\n",
      "     (1, 'Qп') :  None : 20.000010451259246 :  None : False : False :  Reals\n",
      "     (1, 'Qт') :  None :             0.0001 :  None : False : False :  Reals\n",
      "      (2, 'N') :  None :  75.03967027081069 :  None : False : False :  Reals\n",
      "     (2, 'Q0') :  None : 158.64134248493644 :  None : False : False :  Reals\n",
      "     (2, 'Qп') :  None : 20.000010451259246 :  None : False : False :  Reals\n",
      "     (2, 'Qт') :  None :             0.0001 :  None : False : False :  Reals\n",
      "      (3, 'N') :  None :  75.03967027081069 :  None : False : False :  Reals\n",
      "     (3, 'Q0') :  None : 158.64134248493644 :  None : False : False :  Reals\n",
      "     (3, 'Qп') :  None : 20.000010451259246 :  None : False : False :  Reals\n",
      "     (3, 'Qт') :  None :             0.0001 :  None : False : False :  Reals\n",
      "      (4, 'N') :  None :  75.03967027081069 :  None : False : False :  Reals\n",
      "     (4, 'Q0') :  None : 158.64134248493644 :  None : False : False :  Reals\n",
      "     (4, 'Qп') :  None : 20.000010451259246 :  None : False : False :  Reals\n",
      "     (4, 'Qт') :  None :             0.0001 :  None : False : False :  Reals\n",
      "      (5, 'N') :  None :  75.03967027081069 :  None : False : False :  Reals\n",
      "     (5, 'Q0') :  None : 158.64134248493644 :  None : False : False :  Reals\n",
      "     (5, 'Qп') :  None : 20.000010451259246 :  None : False : False :  Reals\n",
      "     (5, 'Qт') :  None :             0.0001 :  None : False : False :  Reals\n",
      "      (6, 'N') :  None :  75.03967027081069 :  None : False : False :  Reals\n",
      "     (6, 'Q0') :  None : 158.64134248493644 :  None : False : False :  Reals\n",
      "     (6, 'Qп') :  None : 20.000010451259246 :  None : False : False :  Reals\n",
      "     (6, 'Qт') :  None :             0.0001 :  None : False : False :  Reals\n",
      "      (7, 'N') :  None :  75.03967027081069 :  None : False : False :  Reals\n",
      "     (7, 'Q0') :  None : 158.64134248493644 :  None : False : False :  Reals\n",
      "     (7, 'Qп') :  None : 20.000010451259246 :  None : False : False :  Reals\n",
      "     (7, 'Qт') :  None :             0.0001 :  None : False : False :  Reals\n",
      "      (8, 'N') :  None :  75.03967027081069 :  None : False : False :  Reals\n",
      "     (8, 'Q0') :  None : 158.64134248493644 :  None : False : False :  Reals\n",
      "     (8, 'Qп') :  None : 20.000010451259246 :  None : False : False :  Reals\n",
      "     (8, 'Qт') :  None :             0.0001 :  None : False : False :  Reals\n",
      "      (9, 'N') :  None :  75.03967027081069 :  None : False : False :  Reals\n",
      "     (9, 'Q0') :  None : 158.64134248493644 :  None : False : False :  Reals\n",
      "     (9, 'Qп') :  None : 20.000010451259246 :  None : False : False :  Reals\n",
      "     (9, 'Qт') :  None :             0.0001 :  None : False : False :  Reals\n",
      "     (10, 'N') :  None :  75.03967027081069 :  None : False : False :  Reals\n",
      "    (10, 'Q0') :  None : 158.64134248493644 :  None : False : False :  Reals\n",
      "    (10, 'Qп') :  None : 20.000010451259246 :  None : False : False :  Reals\n",
      "    (10, 'Qт') :  None :             0.0001 :  None : False : False :  Reals\n",
      "     (11, 'N') :  None :  75.03967027081069 :  None : False : False :  Reals\n",
      "    (11, 'Q0') :  None : 158.64134248493644 :  None : False : False :  Reals\n",
      "    (11, 'Qп') :  None : 20.000010451259246 :  None : False : False :  Reals\n",
      "    (11, 'Qт') :  None :             0.0001 :  None : False : False :  Reals\n",
      "     (12, 'N') :  None :  75.03967027081069 :  None : False : False :  Reals\n",
      "    (12, 'Q0') :  None : 158.64134248493644 :  None : False : False :  Reals\n",
      "    (12, 'Qп') :  None : 20.000010451259246 :  None : False : False :  Reals\n",
      "    (12, 'Qт') :  None :             0.0001 :  None : False : False :  Reals\n",
      "     (13, 'N') :  None :  75.03967027081069 :  None : False : False :  Reals\n",
      "    (13, 'Q0') :  None : 158.64134248493644 :  None : False : False :  Reals\n",
      "    (13, 'Qп') :  None : 20.000010451259246 :  None : False : False :  Reals\n",
      "    (13, 'Qт') :  None :             0.0001 :  None : False : False :  Reals\n",
      "     (14, 'N') :  None :  75.03967027081069 :  None : False : False :  Reals\n",
      "    (14, 'Q0') :  None : 158.64134248493644 :  None : False : False :  Reals\n",
      "    (14, 'Qп') :  None : 20.000010451259246 :  None : False : False :  Reals\n",
      "    (14, 'Qт') :  None :             0.0001 :  None : False : False :  Reals\n",
      "     (15, 'N') :  None :  75.03967027081069 :  None : False : False :  Reals\n",
      "    (15, 'Q0') :  None : 158.64134248493644 :  None : False : False :  Reals\n",
      "    (15, 'Qп') :  None : 20.000010451259246 :  None : False : False :  Reals\n",
      "    (15, 'Qт') :  None :             0.0001 :  None : False : False :  Reals\n",
      "     (16, 'N') :  None :  75.03967027081069 :  None : False : False :  Reals\n",
      "    (16, 'Q0') :  None : 158.64134248493644 :  None : False : False :  Reals\n",
      "    (16, 'Qп') :  None : 20.000010451259246 :  None : False : False :  Reals\n",
      "    (16, 'Qт') :  None :             0.0001 :  None : False : False :  Reals\n",
      "     (17, 'N') :  None :  75.03967027081069 :  None : False : False :  Reals\n",
      "    (17, 'Q0') :  None : 158.64134248493644 :  None : False : False :  Reals\n",
      "    (17, 'Qп') :  None : 20.000010451259246 :  None : False : False :  Reals\n",
      "    (17, 'Qт') :  None :             0.0001 :  None : False : False :  Reals\n",
      "     (18, 'N') :  None :  75.03967027081069 :  None : False : False :  Reals\n",
      "    (18, 'Q0') :  None : 158.64134248493644 :  None : False : False :  Reals\n",
      "    (18, 'Qп') :  None : 20.000010451259246 :  None : False : False :  Reals\n",
      "    (18, 'Qт') :  None :             0.0001 :  None : False : False :  Reals\n",
      "     (19, 'N') :  None :  75.03967027081069 :  None : False : False :  Reals\n",
      "    (19, 'Q0') :  None : 158.64134248493644 :  None : False : False :  Reals\n",
      "    (19, 'Qп') :  None : 20.000010451259246 :  None : False : False :  Reals\n",
      "    (19, 'Qт') :  None :             0.0001 :  None : False : False :  Reals\n",
      "     (20, 'N') :  None :  75.03967027081069 :  None : False : False :  Reals\n",
      "    (20, 'Q0') :  None : 158.64134248493644 :  None : False : False :  Reals\n",
      "    (20, 'Qп') :  None : 20.000010451259246 :  None : False : False :  Reals\n",
      "    (20, 'Qт') :  None :             0.0001 :  None : False : False :  Reals\n",
      "     (21, 'N') :  None :  75.03967027081069 :  None : False : False :  Reals\n",
      "    (21, 'Q0') :  None : 158.64134248493644 :  None : False : False :  Reals\n",
      "    (21, 'Qп') :  None : 20.000010451259246 :  None : False : False :  Reals\n",
      "    (21, 'Qт') :  None :             0.0001 :  None : False : False :  Reals\n",
      "     (22, 'N') :  None :  75.03967027081069 :  None : False : False :  Reals\n",
      "    (22, 'Q0') :  None : 158.64134248493644 :  None : False : False :  Reals\n",
      "    (22, 'Qп') :  None : 20.000010451259246 :  None : False : False :  Reals\n",
      "    (22, 'Qт') :  None :             0.0001 :  None : False : False :  Reals\n",
      "     (23, 'N') :  None :  75.03967027081069 :  None : False : False :  Reals\n",
      "    (23, 'Q0') :  None : 158.64134248493644 :  None : False : False :  Reals\n",
      "    (23, 'Qп') :  None : 20.000010451259246 :  None : False : False :  Reals\n",
      "    (23, 'Qт') :  None :             0.0001 :  None : False : False :  Reals\n"
     ]
    }
   ],
   "source": [
    "m.T1.Vars.pprint()"
   ]
  },
  {
   "cell_type": "markdown",
   "metadata": {},
   "source": [
    "# Блок работы с характеристиками PWL (характеристики процесса полноценные)"
   ]
  },
  {
   "cell_type": "code",
   "execution_count": 43,
   "metadata": {},
   "outputs": [],
   "source": [
    "m1 = ConcreteModel()\n",
    "# Задаем шкалу времени (24 часа), для которой будут проводиться расчеты\n",
    "nt=24\n",
    "t = range(0, nt)\n",
    "m1.T1 = PWL_Block(t, df)"
   ]
  },
  {
   "cell_type": "code",
   "execution_count": 44,
   "metadata": {},
   "outputs": [],
   "source": [
    "# Определяем целевую функцию\n",
    "Dohod = sum((m1.T1.Vars[i,'Q0']) for i in t)\n",
    "m1.O1 = Objective(expr=Dohod , sense=maximize)"
   ]
  },
  {
   "cell_type": "code",
   "execution_count": 45,
   "metadata": {},
   "outputs": [],
   "source": [
    "# Используем наиболее быстрый решатель оптимизации Guroby Optimization для расчета нашей оптимизационной модели\n",
    "gurobi = SolverFactory('gurobi')"
   ]
  },
  {
   "cell_type": "code",
   "execution_count": 46,
   "metadata": {},
   "outputs": [
    {
     "name": "stdout",
     "output_type": "stream",
     "text": [
      "['Qт']\n"
     ]
    }
   ],
   "source": [
    "m1.T1=ext_vars(m1.T1,Qт=df['Qт'])"
   ]
  },
  {
   "cell_type": "code",
   "execution_count": 47,
   "metadata": {},
   "outputs": [
    {
     "name": "stdout",
     "output_type": "stream",
     "text": [
      "\n",
      "Problem: \n",
      "- Name: x53234\n",
      "  Lower bound: 3668.8112243757764\n",
      "  Upper bound: 3668.8112243757773\n",
      "  Number of objectives: 1\n",
      "  Number of constraints: 8977\n",
      "  Number of variables: 53234\n",
      "  Number of binary variables: 44329\n",
      "  Number of integer variables: 44329\n",
      "  Number of continuous variables: 8905\n",
      "  Number of nonzeros: 271912\n",
      "  Sense: maximize\n",
      "Solver: \n",
      "- Status: ok\n",
      "  Return code: 0\n",
      "  Message: Model was solved to optimality (subject to tolerances), and an optimal solution is available.\n",
      "  Termination condition: optimal\n",
      "  Termination message: Model was solved to optimality (subject to tolerances), and an optimal solution is available.\n",
      "  Wall time: 9.855476379394531\n",
      "  Error rc: 0\n",
      "  Time: 10.801554203033447\n",
      "Solution: \n",
      "- number of solutions: 0\n",
      "  number of solutions displayed: 0\n",
      "\n"
     ]
    }
   ],
   "source": [
    "# Смотрим время расчета и статус выполнения расчета модели\n",
    "status = gurobi.solve(m1)\n",
    "print(status)"
   ]
  },
  {
   "cell_type": "code",
   "execution_count": 19,
   "metadata": {},
   "outputs": [
    {
     "name": "stdout",
     "output_type": "stream",
     "text": [
      "Vars : Size=96, Index=T1.Vars_index\n",
      "    Key        : Lower : Value              : Upper : Fixed : Stale : Domain\n",
      "      (0, 'N') :  None :        75.03977035 :  None : False : False :  Reals\n",
      "     (0, 'Q0') :  None : 159.72861001308857 :  None : False : False :  Reals\n",
      "     (0, 'Qп') :  None :               20.0 :  None : False : False :  Reals\n",
      "     (0, 'Qт') :  None :                0.0 :  None : False : False :  Reals\n",
      "      (1, 'N') :  None :        75.03977035 :  None : False : False :  Reals\n",
      "     (1, 'Q0') :  None : 159.72861001308857 :  None : False : False :  Reals\n",
      "     (1, 'Qп') :  None :               20.0 :  None : False : False :  Reals\n",
      "     (1, 'Qт') :  None :                0.0 :  None : False : False :  Reals\n",
      "      (2, 'N') :  None :        75.03977035 :  None : False : False :  Reals\n",
      "     (2, 'Q0') :  None : 159.72861001308857 :  None : False : False :  Reals\n",
      "     (2, 'Qп') :  None :               20.0 :  None : False : False :  Reals\n",
      "     (2, 'Qт') :  None :                0.0 :  None : False : False :  Reals\n",
      "      (3, 'N') :  None :        75.03977035 :  None : False : False :  Reals\n",
      "     (3, 'Q0') :  None : 159.72861001308857 :  None : False : False :  Reals\n",
      "     (3, 'Qп') :  None :               20.0 :  None : False : False :  Reals\n",
      "     (3, 'Qт') :  None :                0.0 :  None : False : False :  Reals\n",
      "      (4, 'N') :  None :        75.03977035 :  None : False : False :  Reals\n",
      "     (4, 'Q0') :  None : 159.72861001308857 :  None : False : False :  Reals\n",
      "     (4, 'Qп') :  None :               20.0 :  None : False : False :  Reals\n",
      "     (4, 'Qт') :  None :                0.0 :  None : False : False :  Reals\n",
      "      (5, 'N') :  None :        75.03977035 :  None : False : False :  Reals\n",
      "     (5, 'Q0') :  None : 159.72861001308857 :  None : False : False :  Reals\n",
      "     (5, 'Qп') :  None :               20.0 :  None : False : False :  Reals\n",
      "     (5, 'Qт') :  None :                0.0 :  None : False : False :  Reals\n",
      "      (6, 'N') :  None :        75.03977035 :  None : False : False :  Reals\n",
      "     (6, 'Q0') :  None : 159.72861001308857 :  None : False : False :  Reals\n",
      "     (6, 'Qп') :  None :               20.0 :  None : False : False :  Reals\n",
      "     (6, 'Qт') :  None :                0.0 :  None : False : False :  Reals\n",
      "      (7, 'N') :  None :        75.03977035 :  None : False : False :  Reals\n",
      "     (7, 'Q0') :  None : 159.72861001308857 :  None : False : False :  Reals\n",
      "     (7, 'Qп') :  None :               20.0 :  None : False : False :  Reals\n",
      "     (7, 'Qт') :  None :                0.0 :  None : False : False :  Reals\n",
      "      (8, 'N') :  None :        75.03977035 :  None : False : False :  Reals\n",
      "     (8, 'Q0') :  None : 159.72861001308857 :  None : False : False :  Reals\n",
      "     (8, 'Qп') :  None :               20.0 :  None : False : False :  Reals\n",
      "     (8, 'Qт') :  None :                0.0 :  None : False : False :  Reals\n",
      "      (9, 'N') :  None :  74.40681280499999 :  None : False : False :  Reals\n",
      "     (9, 'Q0') :  None :  153.3949401693059 :  None : False : False :  Reals\n",
      "     (9, 'Qп') :  None :               17.5 :  None : False : False :  Reals\n",
      "     (9, 'Qт') :  None :               10.0 :  None : False : False :  Reals\n",
      "     (10, 'N') :  None :  74.40681280499999 :  None : False : False :  Reals\n",
      "    (10, 'Q0') :  None :  153.3949401693059 :  None : False : False :  Reals\n",
      "    (10, 'Qп') :  None :               17.5 :  None : False : False :  Reals\n",
      "    (10, 'Qт') :  None :               10.0 :  None : False : False :  Reals\n",
      "     (11, 'N') :  None :  74.40681280499999 :  None : False : False :  Reals\n",
      "    (11, 'Q0') :  None :  153.3949401693059 :  None : False : False :  Reals\n",
      "    (11, 'Qп') :  None :               17.5 :  None : False : False :  Reals\n",
      "    (11, 'Qт') :  None :               10.0 :  None : False : False :  Reals\n",
      "     (12, 'N') :  None :  74.40681280499999 :  None : False : False :  Reals\n",
      "    (12, 'Q0') :  None :  153.3949401693059 :  None : False : False :  Reals\n",
      "    (12, 'Qп') :  None :               17.5 :  None : False : False :  Reals\n",
      "    (12, 'Qт') :  None :               10.0 :  None : False : False :  Reals\n",
      "     (13, 'N') :  None :  74.40681280499999 :  None : False : False :  Reals\n",
      "    (13, 'Q0') :  None :  153.3949401693059 :  None : False : False :  Reals\n",
      "    (13, 'Qп') :  None :               17.5 :  None : False : False :  Reals\n",
      "    (13, 'Qт') :  None :               10.0 :  None : False : False :  Reals\n",
      "     (14, 'N') :  None :  74.40681280499999 :  None : False : False :  Reals\n",
      "    (14, 'Q0') :  None :  153.3949401693059 :  None : False : False :  Reals\n",
      "    (14, 'Qп') :  None :               17.5 :  None : False : False :  Reals\n",
      "    (14, 'Qт') :  None :               10.0 :  None : False : False :  Reals\n",
      "     (15, 'N') :  None :        73.77385526 :  None : False : False :  Reals\n",
      "    (15, 'Q0') :  None : 147.06127032552328 :  None : False : False :  Reals\n",
      "    (15, 'Qп') :  None :               15.0 :  None : False : False :  Reals\n",
      "    (15, 'Qт') :  None :               20.0 :  None : False : False :  Reals\n",
      "     (16, 'N') :  None :        73.77385526 :  None : False : False :  Reals\n",
      "    (16, 'Q0') :  None : 147.06127032552328 :  None : False : False :  Reals\n",
      "    (16, 'Qп') :  None :               15.0 :  None : False : False :  Reals\n",
      "    (16, 'Qт') :  None :               20.0 :  None : False : False :  Reals\n",
      "     (17, 'N') :  None :        73.77385526 :  None : False : False :  Reals\n",
      "    (17, 'Q0') :  None : 147.06127032552328 :  None : False : False :  Reals\n",
      "    (17, 'Qп') :  None :               15.0 :  None : False : False :  Reals\n",
      "    (17, 'Qт') :  None :               20.0 :  None : False : False :  Reals\n",
      "     (18, 'N') :  None :        73.77385526 :  None : False : False :  Reals\n",
      "    (18, 'Q0') :  None : 147.06127032552328 :  None : False : False :  Reals\n",
      "    (18, 'Qп') :  None :               15.0 :  None : False : False :  Reals\n",
      "    (18, 'Qт') :  None :               20.0 :  None : False : False :  Reals\n",
      "     (19, 'N') :  None :        73.77385526 :  None : False : False :  Reals\n",
      "    (19, 'Q0') :  None : 147.06127032552328 :  None : False : False :  Reals\n",
      "    (19, 'Qп') :  None :               15.0 :  None : False : False :  Reals\n",
      "    (19, 'Qт') :  None :               20.0 :  None : False : False :  Reals\n",
      "     (20, 'N') :  None :        73.77385526 :  None : False : False :  Reals\n",
      "    (20, 'Q0') :  None : 147.06127032552328 :  None : False : False :  Reals\n",
      "    (20, 'Qп') :  None :               15.0 :  None : False : False :  Reals\n",
      "    (20, 'Qт') :  None :               20.0 :  None : False : False :  Reals\n",
      "     (21, 'N') :  None :        73.77385526 :  None : False : False :  Reals\n",
      "    (21, 'Q0') :  None : 147.06127032552328 :  None : False : False :  Reals\n",
      "    (21, 'Qп') :  None :               15.0 :  None : False : False :  Reals\n",
      "    (21, 'Qт') :  None :               20.0 :  None : False : False :  Reals\n",
      "     (22, 'N') :  None :       73.140897715 :  None : False : False :  Reals\n",
      "    (22, 'Q0') :  None :  140.7276004817406 :  None : False : False :  Reals\n",
      "    (22, 'Qп') :  None :               12.5 :  None : False : False :  Reals\n",
      "    (22, 'Qт') :  None :               30.0 :  None : False : False :  Reals\n",
      "     (23, 'N') :  None :       73.140897715 :  None : False : False :  Reals\n",
      "    (23, 'Q0') :  None :  140.7276004817406 :  None : False : False :  Reals\n",
      "    (23, 'Qп') :  None :               12.5 :  None : False : False :  Reals\n",
      "    (23, 'Qт') :  None :               30.0 :  None : False : False :  Reals\n"
     ]
    }
   ],
   "source": [
    "m1.T1.Vars.pprint()"
   ]
  },
  {
   "cell_type": "code",
   "execution_count": null,
   "metadata": {},
   "outputs": [],
   "source": []
  }
 ],
 "metadata": {
  "kernelspec": {
   "display_name": "Python 3",
   "language": "python",
   "name": "python3"
  },
  "language_info": {
   "codemirror_mode": {
    "name": "ipython",
    "version": 3
   },
   "file_extension": ".py",
   "mimetype": "text/x-python",
   "name": "python",
   "nbconvert_exporter": "python",
   "pygments_lexer": "ipython3",
   "version": "3.7.4"
  }
 },
 "nbformat": 4,
 "nbformat_minor": 2
}
